{
 "cells": [
  {
   "cell_type": "markdown",
   "id": "acdaf90f",
   "metadata": {},
   "source": [
    "# Pronóstico de Ventas Mensuales por Producto con Prophet\n",
    "\n",
    "Este notebook toma el dataset limpio generado a partir de **VentasCoati.csv**, \n",
    "filtra un producto, agrega las ventas mensuales y entrena un modelo de series temporales \n",
    "usando [Facebook Prophet](https://facebook.github.io/prophet/).\n",
    "\n",
    "## Pasos:\n",
    "1. Carga del dataset limpio.\n",
    "2. Selección de un producto.\n",
    "3. Agregado mensual de ventas.\n",
    "4. Entrenamiento de Prophet y predicción a 12 meses.\n",
    "5. Visualización de pronóstico y componentes estacionales.\n"
   ]
  },
  {
   "cell_type": "code",
   "execution_count": null,
   "id": "700439d1",
   "metadata": {},
   "outputs": [],
   "source": [
    "import pandas as pd\n",
    "import matplotlib.pyplot as plt\n",
    "from prophet import Prophet\n",
    "\n",
    "# Cargar dataset limpio\n",
    "df = pd.read_csv(\"VentasCoati_clean_train_ready.csv\", parse_dates=['SaleOrderDate'])\n",
    "\n",
    "# Seleccionar columnas necesarias\n",
    "# Filtrar un producto específico para el ejemplo\n",
    "producto_ejemplo = df['ProductName'].value_counts().index[0]\n",
    "df_prod = df[df['ProductName'] == producto_ejemplo]\n",
    "\n",
    "# Agrupar por mes para Prophet\n",
    "df_monthly = df_prod.resample('MS', on='SaleOrderDate')['Requested'].sum().reset_index()\n",
    "df_monthly = df_monthly.rename(columns={'SaleOrderDate': 'ds', 'Requested': 'y'})\n",
    "\n",
    "df_monthly.head()\n"
   ]
  },
  {
   "cell_type": "code",
   "execution_count": null,
   "id": "13b37e16",
   "metadata": {},
   "outputs": [],
   "source": [
    "# Crear y ajustar modelo Prophet\n",
    "model = Prophet(yearly_seasonality=True, weekly_seasonality=False, daily_seasonality=False)\n",
    "model.fit(df_monthly)\n",
    "\n",
    "# Crear dataframe futuro\n",
    "future = model.make_future_dataframe(periods=12, freq='MS')\n",
    "forecast = model.predict(future)\n",
    "\n",
    "# Graficar\n",
    "fig1 = model.plot(forecast)\n",
    "plt.title(f\"Pronóstico mensual de unidades vendidas - {producto_ejemplo}\")\n",
    "plt.show()\n",
    "\n",
    "fig2 = model.plot_components(forecast)\n",
    "plt.show()\n"
   ]
  }
 ],
 "metadata": {},
 "nbformat": 4,
 "nbformat_minor": 5
}
